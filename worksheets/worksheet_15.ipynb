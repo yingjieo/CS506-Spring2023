{
 "cells": [
  {
   "attachments": {},
   "cell_type": "markdown",
   "metadata": {},
   "source": [
    "# Worksheet 15\n",
    "\n",
    "Name:  \n",
    "UID: \n",
    "\n",
    "### Topics\n",
    "\n",
    "- Linear Regression\n",
    "\n",
    "### Optional Challenge\n",
    "\n",
    "Every day my alarm goes off at seemingly random times… I’ve recorded the times at which it goes off for the past year of so (1 - 355 days). Today is day 356. Can you predict when my alarm will ring using `data.csv`?\n",
    "\n",
    "Please fill out the piazza poll if you think you found the answer.\n",
    "\n",
    "## Linear Regression\n",
    "\n",
    "a) Create and plot a dataset of 100 (Y, X) points where `Y = 1 + 0.5 * X + eps`."
   ]
  },
  {
   "cell_type": "code",
   "execution_count": null,
   "metadata": {},
   "outputs": [],
   "source": [
    "import numpy as np\n",
    "import matplotlib.pyplot as plt\n",
    "\n",
    "line = np.array([ ... , ... ])\n",
    "xlin = -10.0 + 20.0 * np.random.random(100)\n",
    "ylin = line[0]+(line[1]*xlin)+np.random.randn(100)\n",
    "plt.plot(xlin,ylin,'ro',markersize=4)\n",
    "plt.show()"
   ]
  },
  {
   "cell_type": "markdown",
   "metadata": {},
   "source": [
    "b) Plot the least squares estimate line through the scatter plot."
   ]
  },
  {
   "cell_type": "code",
   "execution_count": null,
   "metadata": {},
   "outputs": [],
   "source": [
    "intercept = np.ones(np.shape(xlin)[0])\n",
    "X = np.array([intercept, xlin]).T\n",
    "beta = ...\n",
    "\n",
    "xplot = np.linspace(-10,10,50)\n",
    "yestplot = beta[0] + beta[1] * xplot\n",
    "plt.plot(xplot, yestplot,'b-',lw=2)\n",
    "plt.plot(xlin, ylin,'ro',markersize=4)\n",
    "plt.show()"
   ]
  },
  {
   "cell_type": "markdown",
   "metadata": {},
   "source": [
    "c) How does the estimate of `beta` compare to the parameters we used to generate the data?"
   ]
  },
  {
   "cell_type": "markdown",
   "metadata": {},
   "source": []
  },
  {
   "cell_type": "markdown",
   "metadata": {},
   "source": [
    "d) Create and plot a dataset of 100 (Y, X) points where `Y = 1 + 3 * X + .5 * X^2 + eps`."
   ]
  },
  {
   "cell_type": "code",
   "execution_count": null,
   "metadata": {},
   "outputs": [],
   "source": []
  },
  {
   "cell_type": "markdown",
   "metadata": {},
   "source": [
    "e) Plot the least squares estimate line through the scatter plot."
   ]
  },
  {
   "cell_type": "code",
   "execution_count": null,
   "metadata": {},
   "outputs": [],
   "source": []
  },
  {
   "cell_type": "markdown",
   "metadata": {},
   "source": [
    "f) How does the estimate of `beta` compare to the parameters we used to generate the data?"
   ]
  },
  {
   "cell_type": "markdown",
   "metadata": {},
   "source": []
  },
  {
   "attachments": {},
   "cell_type": "markdown",
   "metadata": {},
   "source": [
    "g) Let's repeat d) and f) a large number of times to see how close our estimates are on average and what that distribution looks like."
   ]
  },
  {
   "cell_type": "code",
   "execution_count": null,
   "metadata": {},
   "outputs": [],
   "source": [
    "import numpy as np\n",
    "import matplotlib.pyplot as plt\n",
    "\n",
    "betas = []\n",
    "true_beta = np.array([ ... ])\n",
    "for _ in range(10000):\n",
    "    xlin = -10.0 + 20.0 * np.random.random(100)\n",
    "    ylin = ...\n",
    "    intercept = np.ones(np.shape(xlin)[0])\n",
    "    X = np.array([intercept, xlin]).T\n",
    "    betas.append(...)\n",
    "\n",
    "plt.hist(np.array(betas)[:, 1], bins=100)\n",
    "plt.axvline(x=true_beta[1], c='r', linestyle='dashed')\n",
    "plt.show()"
   ]
  }
 ],
 "metadata": {
  "interpreter": {
   "hash": "76ca05dc3ea24b2e3b98cdb7774adfbb40773424bf5109b477fd793f623715af"
  },
  "kernelspec": {
   "display_name": "Python 3 (ipykernel)",
   "language": "python",
   "name": "python3"
  },
  "language_info": {
   "codemirror_mode": {
    "name": "ipython",
    "version": 3
   },
   "file_extension": ".py",
   "mimetype": "text/x-python",
   "name": "python",
   "nbconvert_exporter": "python",
   "pygments_lexer": "ipython3",
   "version": "3.11.1"
  },
  "orig_nbformat": 4
 },
 "nbformat": 4,
 "nbformat_minor": 2
}
