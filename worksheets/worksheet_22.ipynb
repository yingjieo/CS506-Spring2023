{
 "cells": [
  {
   "attachments": {},
   "cell_type": "markdown",
   "metadata": {},
   "source": [
    "# Worksheet 22\n",
    "\n",
    "Name:  \n",
    "UID: \n",
    "\n",
    "### Topics\n",
    "\n",
    "- Networks & Graphs\n",
    "\n",
    "## Networks & Graphs\n",
    "\n",
    "a) For each of the following, give an example of a question about a graph that is faster to answer when the graph is stored as:\n",
    "\n",
    "- an adjacency matrix\n",
    "- an adjacency list"
   ]
  },
  {
   "cell_type": "markdown",
   "metadata": {},
   "source": []
  },
  {
   "cell_type": "markdown",
   "metadata": {},
   "source": [
    "b) Load the following graph using the networkx library\n",
    "\n",
    "```\n",
    "A : {B, C}\n",
    "B : {A, D, E}\n",
    "C : {A, F}\n",
    "E : {B, G, H}\n",
    "```\n"
   ]
  },
  {
   "cell_type": "code",
   "execution_count": null,
   "metadata": {},
   "outputs": [],
   "source": [
    "import networkx as nx\n",
    "\n",
    "G = nx.Graph()\n",
    "G.add_node('A')\n",
    "G.add_nodes_from(['B', 'C'])\n",
    "G.add_edge('A', 'B')\n",
    "\n",
    "print(G.nodes())"
   ]
  },
  {
   "cell_type": "markdown",
   "metadata": {},
   "source": [
    "c) Print the following about the graph:\n",
    "\n",
    "- the diameter\n",
    "- the neighbors of node `A`\n",
    "- the density\n",
    "- degree centrality\n",
    "- closeness centrality\n",
    "- betweenness centrality"
   ]
  },
  {
   "cell_type": "code",
   "execution_count": null,
   "metadata": {},
   "outputs": [],
   "source": []
  },
  {
   "cell_type": "markdown",
   "metadata": {},
   "source": [
    "d) What is the Kendall-Tau distance between the following rankings:\n",
    "\n",
    "\n",
    "|   | R_1 | R_2 |\n",
    "|---|-----|-----|\n",
    "| A | 1   |  5  |\n",
    "| B | 2   |  6  |\n",
    "| C | 3   |  7  |\n",
    "| D | 4   |  4  |\n",
    "| E | 5   |  1  |\n",
    "| F | 6   |  2  |\n",
    "| G | 7   |  3  |"
   ]
  },
  {
   "cell_type": "markdown",
   "metadata": {},
   "source": []
  }
 ],
 "metadata": {
  "kernelspec": {
   "display_name": "Python 3",
   "language": "python",
   "name": "python3"
  },
  "language_info": {
   "name": "python",
   "version": "3.11.1"
  },
  "orig_nbformat": 4,
  "vscode": {
   "interpreter": {
    "hash": "e7370f93d1d0cde622a1f8e1c04877d8463912d04d973331ad4851f04de6915a"
   }
  }
 },
 "nbformat": 4,
 "nbformat_minor": 2
}
